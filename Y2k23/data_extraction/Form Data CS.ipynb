{
 "cells": [
  {
   "cell_type": "code",
   "execution_count": 1,
   "id": "7db4b3de",
   "metadata": {},
   "outputs": [],
   "source": [
    "import os\n",
    "import json\n",
    "import pandas as pd\n",
    "from ast import literal_eval"
   ]
  },
  {
   "cell_type": "code",
   "execution_count": 2,
   "id": "9a6dbe37",
   "metadata": {},
   "outputs": [],
   "source": [
    "def process_string(key, str_value):\n",
    "    return key + \" is \" + str(str_value) + \". \""
   ]
  },
  {
   "cell_type": "code",
   "execution_count": 3,
   "id": "bcad48f2",
   "metadata": {},
   "outputs": [],
   "source": [
    "def process_list_str(key, lst_value):\n",
    "    tmp_str = key + \" are \" \n",
    "    for item in lst_value:\n",
    "        tmp_str += str(item) + \"; \"\n",
    "    return tmp_str"
   ]
  },
  {
   "cell_type": "code",
   "execution_count": 4,
   "id": "c2518d30",
   "metadata": {},
   "outputs": [],
   "source": [
    "def process_list_dict(key, lst_dict):\n",
    "    tmp_str = \"\"\n",
    "    for dct_key, dct_value in lst_dict.items():\n",
    "        tmp_str += str(key) + \" \" + str(dct_key) + \" is \" + str(dct_value) + \". \"\n",
    "    return tmp_str"
   ]
  },
  {
   "cell_type": "code",
   "execution_count": 5,
   "id": "2a9a5593",
   "metadata": {},
   "outputs": [],
   "source": [
    "df_cs = pd.read_csv(\"cs.csv\")\n",
    "columns = list(df_cs.columns)"
   ]
  },
  {
   "cell_type": "code",
   "execution_count": 6,
   "id": "d88aa8dc",
   "metadata": {},
   "outputs": [
    {
     "data": {
      "text/plain": [
       "228"
      ]
     },
     "execution_count": 6,
     "metadata": {},
     "output_type": "execute_result"
    }
   ],
   "source": [
    "len(columns)"
   ]
  },
  {
   "cell_type": "code",
   "execution_count": 7,
   "id": "244a9569",
   "metadata": {},
   "outputs": [],
   "source": [
    "count1=0\n",
    "count2=0\n",
    "count3=0\n",
    "count4=0\n",
    "def get_combined_data(row):\n",
    "    global count1, clount2, count3, count4\n",
    "    print(\"NEW ROW\")\n",
    "    event_text = \"\"\n",
    "    for each_column in columns:\n",
    "        #import pdb;pdb.set_trace()\n",
    "        #import pdb;pdb.set_trace()\n",
    "        #if each_column == \"host\":\n",
    "        #    import pdb;pdb.set_trace()\n",
    "        if not row.get(each_column):\n",
    "            continue\n",
    "        try:\n",
    "            cell = literal_eval(row[each_column])\n",
    "        except:\n",
    "            cell = row[each_column]\n",
    "        if isinstance(cell, str) or isinstance(cell, int):            \n",
    "            event_text += process_string(each_column, str(cell))\n",
    "        elif isinstance(cell, list):\n",
    "            if isinstance(cell[0], str):\n",
    "                event_text += process_list_str(each_column, cell)\n",
    "            elif isinstance(cell[0], dict):\n",
    "                #import pdb;pdb.set_trace()\n",
    "                for each_item in cell:\n",
    "                    event_text += process_list_dict(each_column, each_item)\n",
    "            elif isinstance(cell[0], list):\n",
    "                print(f\"{each_column} -- List of list\")\n",
    "                count2 += 1\n",
    "        elif isinstance(cell, dict):\n",
    "            for rec_key in cell.keys():\n",
    "                if isinstance(cell[rec_key], str):\n",
    "                    tmp_key = each_column + \" \" + rec_key\n",
    "                    event_text += process_string(tmp_key, cell[rec_key])\n",
    "                elif isinstance(cell[rec_key], dict):\n",
    "                    for each_item in cell[rec_key].keys():\n",
    "                        tmp_key = each_column + \" \" + str(rec_key) + \" \" + str(each_item)\n",
    "                        event_text += process_string(tmp_key, cell[rec_key][each_item])\n",
    "                    #print(f\"{each_column} -- Dictionary of dictionary\")\n",
    "                    #count3 += 1\n",
    "                elif isinstance(cell[rec_key], list):\n",
    "                    for each_item in cell[rec_key]:\n",
    "                        tmp_key = each_column + \" \" + str(rec_key) + \" is \" + str(each_item) + \". \"\n",
    "                        event_text += tmp_key\n",
    "                    print(f\"{each_column} -- Dictionary of list\")\n",
    "                    count4 += 1\n",
    "    row[\"combined_data\"] = event_text\n",
    "    return row"
   ]
  },
  {
   "cell_type": "code",
   "execution_count": 8,
   "id": "b1a2754b",
   "metadata": {},
   "outputs": [
    {
     "name": "stdout",
     "output_type": "stream",
     "text": [
      "NEW ROW\n",
      "NEW ROW\n",
      "NEW ROW\n",
      "NEW ROW\n",
      "NEW ROW\n",
      "event_data -- Dictionary of list\n",
      "NEW ROW\n",
      "NEW ROW\n",
      "event_data -- Dictionary of list\n",
      "NEW ROW\n",
      "NEW ROW\n",
      "NEW ROW\n",
      "host_info -- Dictionary of list\n",
      "host_info -- Dictionary of list\n",
      "NEW ROW\n",
      "NEW ROW\n",
      "NEW ROW\n",
      "NEW ROW\n",
      "data -- Dictionary of list\n",
      "NEW ROW\n",
      "NEW ROW\n",
      "NEW ROW\n",
      "NEW ROW\n",
      "NEW ROW\n",
      "NEW ROW\n",
      "NEW ROW\n",
      "NEW ROW\n",
      "detection -- Dictionary of list\n",
      "NEW ROW\n",
      "NEW ROW\n",
      "NEW ROW\n",
      "NEW ROW\n",
      "metadata -- Dictionary of list\n",
      "remediation -- Dictionary of list\n",
      "NEW ROW\n",
      "NEW ROW\n",
      "NEW ROW\n",
      "NEW ROW\n",
      "NEW ROW\n",
      "NEW ROW\n",
      "NEW ROW\n",
      "NEW ROW\n",
      "event_details -- Dictionary of list\n",
      "NEW ROW\n",
      "NEW ROW\n",
      "NEW ROW\n",
      "NEW ROW\n",
      "NEW ROW\n",
      "NEW ROW\n",
      "NEW ROW\n",
      "NEW ROW\n",
      "NEW ROW\n",
      "NEW ROW\n",
      "NEW ROW\n",
      "NEW ROW\n",
      "NEW ROW\n",
      "NEW ROW\n",
      "NEW ROW\n",
      "NEW ROW\n",
      "NEW ROW\n",
      "NEW ROW\n",
      "NEW ROW\n",
      "NEW ROW\n",
      "detection -- Dictionary of list\n",
      "detection -- Dictionary of list\n",
      "NEW ROW\n",
      "NEW ROW\n",
      "NEW ROW\n",
      "NEW ROW\n",
      "NEW ROW\n",
      "NEW ROW\n",
      "NEW ROW\n",
      "NEW ROW\n",
      "NEW ROW\n",
      "event_data -- Dictionary of list\n",
      "NEW ROW\n",
      "NEW ROW\n",
      "NEW ROW\n",
      "NEW ROW\n",
      "event_data -- Dictionary of list\n",
      "NEW ROW\n",
      "details -- Dictionary of list\n",
      "NEW ROW\n",
      "NEW ROW\n",
      "NEW ROW\n",
      "NEW ROW\n",
      "event_details -- Dictionary of list\n",
      "NEW ROW\n",
      "NEW ROW\n",
      "threat -- Dictionary of list\n",
      "NEW ROW\n",
      "NEW ROW\n",
      "NEW ROW\n",
      "NEW ROW\n",
      "NEW ROW\n",
      "NEW ROW\n",
      "NEW ROW\n",
      "NEW ROW\n",
      "NEW ROW\n",
      "NEW ROW\n",
      "NEW ROW\n",
      "NEW ROW\n",
      "NEW ROW\n",
      "NEW ROW\n",
      "NEW ROW\n",
      "NEW ROW\n",
      "alert_data -- Dictionary of list\n",
      "NEW ROW\n",
      "NEW ROW\n",
      "NEW ROW\n",
      "NEW ROW\n",
      "NEW ROW\n",
      "NEW ROW\n",
      "NEW ROW\n"
     ]
    }
   ],
   "source": [
    "df_cs[\"combined_data\"] = None\n",
    "df_cs = df_cs.apply(lambda x: get_combined_data(x), axis=1)\n"
   ]
  },
  {
   "cell_type": "code",
   "execution_count": 9,
   "id": "61e1b2ac",
   "metadata": {},
   "outputs": [
    {
     "data": {
      "text/plain": [
       "(0, 0, 0, 17)"
      ]
     },
     "execution_count": 9,
     "metadata": {},
     "output_type": "execute_result"
    }
   ],
   "source": [
    "count1, count2, count3, count4"
   ]
  },
  {
   "cell_type": "code",
   "execution_count": 10,
   "id": "5ff67242",
   "metadata": {},
   "outputs": [],
   "source": [
    "df_cs.to_csv(\"cs_train.csv\", header=True, index=False)"
   ]
  },
  {
   "cell_type": "code",
   "execution_count": null,
   "id": "44ed640a",
   "metadata": {},
   "outputs": [],
   "source": []
  }
 ],
 "metadata": {
  "kernelspec": {
   "display_name": "Python 3",
   "language": "python",
   "name": "python3"
  },
  "language_info": {
   "codemirror_mode": {
    "name": "ipython",
    "version": 3
   },
   "file_extension": ".py",
   "mimetype": "text/x-python",
   "name": "python",
   "nbconvert_exporter": "python",
   "pygments_lexer": "ipython3",
   "version": "3.8.16"
  }
 },
 "nbformat": 4,
 "nbformat_minor": 5
}
