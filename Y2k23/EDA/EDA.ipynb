{
 "cells": [
  {
   "cell_type": "code",
   "execution_count": 1,
   "id": "7db4b3de",
   "metadata": {},
   "outputs": [],
   "source": [
    "import os\n",
    "import json\n",
    "import pandas as pd"
   ]
  },
  {
   "cell_type": "code",
   "execution_count": 2,
   "id": "9b6d2776",
   "metadata": {},
   "outputs": [],
   "source": [
    "cs_filepath = \"../data/All-CS.json\"\n",
    "ms_filepath = \"../data/All-MS.json\""
   ]
  },
  {
   "cell_type": "code",
   "execution_count": 3,
   "id": "244a9569",
   "metadata": {},
   "outputs": [],
   "source": [
    "cs_keys_set = set()\n",
    "for each_event in open(cs_filepath, 'r'):\n",
    "    each_event = eval(each_event)['event']\n",
    "    for each_key in each_event.keys():\n",
    "        cs_keys_set.add(each_key)"
   ]
  },
  {
   "cell_type": "code",
   "execution_count": 4,
   "id": "b1a2754b",
   "metadata": {},
   "outputs": [
    {
     "data": {
      "text/plain": [
       "228"
      ]
     },
     "execution_count": 4,
     "metadata": {},
     "output_type": "execute_result"
    }
   ],
   "source": [
    "len(cs_keys_set)"
   ]
  },
  {
   "cell_type": "code",
   "execution_count": 5,
   "id": "678397f9",
   "metadata": {},
   "outputs": [],
   "source": [
    "fp = open(\"cs_keys_1stlevel.txt\", \"w\")\n",
    "fp.write(str(cs_keys_set))\n",
    "fp.close()"
   ]
  },
  {
   "cell_type": "code",
   "execution_count": 6,
   "id": "0a44b641",
   "metadata": {},
   "outputs": [],
   "source": [
    "ms_keys_set = set()\n",
    "for each_event in open(ms_filepath, 'r'):\n",
    "    ignore_str = '''{\"AlertID\": \"0093345\"'''\n",
    "    if each_event.startswith(ignore_str):\n",
    "        continue\n",
    "    each_event = eval(each_event)#['event']    \n",
    "    for each_key in each_event.keys():\n",
    "        ms_keys_set.add(each_key)"
   ]
  },
  {
   "cell_type": "code",
   "execution_count": 7,
   "id": "d987643a",
   "metadata": {},
   "outputs": [
    {
     "data": {
      "text/plain": [
       "309"
      ]
     },
     "execution_count": 7,
     "metadata": {},
     "output_type": "execute_result"
    }
   ],
   "source": [
    "len(ms_keys_set)"
   ]
  },
  {
   "cell_type": "code",
   "execution_count": 8,
   "id": "ed1623b5",
   "metadata": {},
   "outputs": [],
   "source": [
    "fp = open(\"ms_keys_1stlevel.txt\", \"w\")\n",
    "fp.write(str(ms_keys_set))\n",
    "fp.close()"
   ]
  }
 ],
 "metadata": {
  "kernelspec": {
   "display_name": "Python 3",
   "language": "python",
   "name": "python3"
  },
  "language_info": {
   "codemirror_mode": {
    "name": "ipython",
    "version": 3
   },
   "file_extension": ".py",
   "mimetype": "text/x-python",
   "name": "python",
   "nbconvert_exporter": "python",
   "pygments_lexer": "ipython3",
   "version": "3.8.16"
  }
 },
 "nbformat": 4,
 "nbformat_minor": 5
}
